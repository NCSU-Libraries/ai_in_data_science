{
  "cells": [
    {
      "cell_type": "markdown",
      "metadata": {},
      "source": [
        "# 📊 Emergency Room Wait Time Data Analysis\n",
        "\n",
        "## Data Science Support\n",
        "- **GetDataHelp**: [go.ncsu.edu/getdatahelp](https://go.ncsu.edu/getdatahelp)\n",
        "- **Email**: [getdatahelp@ncsu.edu](mailto:getdatahelp@ncsu.edu)\n",
        "- **Consultations**: [Schedule a consultation](https://www.lib.ncsu.edu/services/data-visualization/get-help/appointments)\n",
        "\n",
        "## Instructor and Session Information\n",
        "\n",
        "### 👨‍💻 Instructors\n",
        "- **Name**: Alp Tezbasaran, Shannon Ricci\n",
        "- **Institution**: NC State Libraries, Data Science Services\n",
        "\n",
        "### 📅 Session Information\n",
        "- **Session Date**: Sept 18, 2025\n",
        "- **Session Duration**: ~45-60 mins\n",
        "- **Learning Level**: Beginner to Intermediate\n",
        "- **Dependencies**: Basic Python, pandas, matplotlib, seaborn\n",
        "- **Environment**: Google Colab (recommended)\n",
        "\n",
        "### 🆘 Resources\n",
        "\n",
        "#### **Data Source Details**\n",
        "- **Repository**: NCSU Libraries AI in Data Science\n",
        "- **URL**: https://github.com/NCSU-Libraries/ai_in_data_science\n",
        "- **Dataset**: ER Wait Time Dataset\n",
        "- **File Format**: CSV, Excel\n",
        "\n",
        "#### **Introduction to ER dataset**\n",
        "1. **Data Documentation**: Check the repository README for detailed information\n",
        "2. **Data Overview**: Review the \"ER Wait Time Data Overview.txt\" file\n",
        "3. **Column Descriptions**: Each column has descriptive names indicating its purpose\n",
        "4. **Data Quality**: The dataset is pre-cleaned and ready for analysis\n",
        "\n",
        "#### **Common Data Issues and Solutions**\n",
        "- **Missing Values**: Check for null values using `df.isnull().sum()`\n",
        "- **Data Types**: Verify column types with `df.dtypes`\n",
        "- **Encoding Issues**: Use `encoding='utf-8'` if needed\n",
        "- **Memory Issues**: Use `chunksize` parameter for large datasets\n",
        "\n",
        "\n",
        "### 📋 Notebook Information\n",
        "- **Version**: 1.0\n",
        "- **Python Version**: 3.8+\n",
        "- **Required Packages**: pandas, numpy, matplotlib, seaborn, scipy, statsmodels\n",
        "- **Estimated Runtime**: 30-45 minutes\n",
        "- **Output Files**: None (analysis only)\n",
        "\n",
        "### 🎯 Learning Objectives\n",
        "By the end of this session, you will be able to:\n",
        "1. Load and inspect healthcare datasets\n",
        "2. Perform exploratory data analysis\n",
        "3. Apply statistical tests to healthcare data\n",
        "4. Create meaningful visualizations\n",
        "5. Draw actionable conclusions from data\n",
        "\n",
        "### 📚 Additional Resources\n",
        "- **Python Documentation**: https://docs.python.org/\n",
        "- **Pandas Documentation**: https://pandas.pydata.org/docs/\n",
        "- **Matplotlib Documentation**: https://matplotlib.org/stable/\n",
        "- **Seaborn Documentation**: https://seaborn.pydata.org/\n",
        "- **Statistics Resources**: https://www.khanacademy.org/math/statistics-probability\n",
        "\n",
        "---\n",
        "\n"
      ]
    },
    {
      "cell_type": "markdown",
      "metadata": {},
      "source": [
        "# 🎯 Google Colab Accessibility Guide\n",
        "\n",
        "## Making This Notebook Accessible for Everyone\n",
        "\n",
        "### 🌙 Dark/Light Theme Support\n",
        "Google Colab supports both dark and light themes to accommodate different visual preferences and accessibility needs:\n",
        "\n",
        "#### **How to Change Themes:**\n",
        "1. **Via Settings Menu:**\n",
        "   - Click the gear icon (⚙️) in the top-right corner\n",
        "   - Select \"Settings\" from the dropdown\n",
        "   - Choose \"Dark\" or \"Light\" theme under \"Appearance\"\n",
        "\n",
        "2. **Via Command Palette:**\n",
        "   - Press `Ctrl+Shift+P` (Windows/Linux) or `Cmd+Shift+P` (Mac)\n",
        "   - Type \"theme\" and select your preferred option\n",
        "\n",
        "#### **Theme Benefits:**\n",
        "- **Dark Theme**: Reduces eye strain in low-light environments\n",
        "- **Light Theme**: Better for users with certain visual impairments\n",
        "- **High Contrast**: Both themes provide good contrast for readability\n",
        "\n",
        "### 🔍 Font Size and Zoom Controls\n",
        "\n",
        "#### **Zoom In/Out:**\n",
        "- **Zoom In**: `Ctrl + +` (Windows/Linux) or `Cmd + +` (Mac)\n",
        "- **Zoom Out**: `Ctrl + -` (Windows/Linux) or `Cmd + -` (Mac)\n",
        "- **Reset Zoom**: `Ctrl + 0` (Windows/Linux) or `Cmd + 0` (Mac)\n",
        "\n",
        "#### **Browser Zoom:**\n",
        "- **Chrome/Edge**: `Ctrl + +` or `Ctrl + -`\n",
        "- **Firefox**: `Ctrl + +` or `Ctrl + -`\n",
        "- **Safari**: `Cmd + +` or `Cmd + -`\n",
        "\n",
        "### ⌨️ Keyboard Navigation\n",
        "\n",
        "#### **Essential Shortcuts:**\n",
        "- **Run Cell**: `Shift + Enter`\n",
        "- **Run Cell & Move Down**: `Ctrl + Enter`\n",
        "- **Add Cell Above**: `Ctrl + M A`\n",
        "- **Add Cell Below**: `Ctrl + M B`\n",
        "- **Delete Cell**: `Ctrl + M D`\n",
        "- **Toggle Cell Type**: `Ctrl + M Y` (Code) or `Ctrl + M M` (Markdown)\n",
        "\n",
        "#### **Navigation:**\n",
        "- **Move Between Cells**: `Up/Down Arrow` keys\n",
        "- **Edit Mode**: `Enter` (when cell is selected)\n",
        "- **Command Mode**: `Escape` (when cell is selected)\n",
        "\n",
        "### 🎨 Visual Accessibility Features\n",
        "\n",
        "#### **Code Cell Features:**\n",
        "- **Syntax Highlighting**: Automatic color coding for better readability\n",
        "- **Line Numbers**: Toggle with `Ctrl + M L`\n",
        "- **Code Folding**: Collapse/expand code blocks\n",
        "- **Indentation Guides**: Visual guides for code structure\n",
        "\n",
        "#### **Markdown Cell Features:**\n",
        "- **Header Hierarchy**: Clear visual hierarchy with different font sizes\n",
        "- **Bold/Italic Text**: Enhanced readability with formatting\n",
        "- **Code Blocks**: Monospace font for code snippets\n",
        "- **Lists and Tables**: Structured information presentation\n",
        "\n",
        "### 🔧 Additional Accessibility Tools\n",
        "\n",
        "#### **Screen Reader Support:**\n",
        "- **Alt Text**: Images and plots include descriptive alt text\n",
        "- **Semantic Structure**: Proper heading hierarchy for navigation\n",
        "- **Descriptive Links**: All links include meaningful descriptions\n",
        "\n",
        "#### **Color and Contrast:**\n",
        "- **High Contrast**: All text meets WCAG contrast requirements\n",
        "- **Color Independence**: Information is not conveyed by color alone\n",
        "- **Pattern Alternatives**: Charts use patterns in addition to colors\n",
        "\n",
        "### 📱 Mobile and Tablet Accessibility\n",
        "\n",
        "#### **Touch-Friendly Interface:**\n",
        "- **Large Touch Targets**: All interactive elements are appropriately sized\n",
        "- **Swipe Navigation**: Natural touch gestures for navigation\n",
        "- **Responsive Design**: Adapts to different screen sizes\n",
        "\n",
        "#### **Mobile Shortcuts:**\n",
        "- **Run Cell**: Tap the play button (▶️)\n",
        "- **Edit Cell**: Double-tap to enter edit mode\n",
        "- **Add Cell**: Use the + button in the toolbar\n",
        "\n",
        "### 🎯 Customization Options\n",
        "\n",
        "#### **Personal Preferences:**\n",
        "- **Font Family**: Change in browser settings\n",
        "- **Font Size**: Use browser zoom or Colab zoom controls\n",
        "- **Line Spacing**: Adjust in browser accessibility settings\n",
        "- **Cursor Size**: Modify in operating system settings\n",
        "\n",
        "#### **Browser Extensions:**\n",
        "- **High Contrast**: Browser extensions for enhanced contrast\n",
        "- **Text-to-Speech**: Screen readers and text-to-speech tools\n",
        "- **Magnification**: Browser zoom and magnification tools\n",
        "\n",
        "### 🆘 Getting Help\n",
        "\n",
        "#### **If You Need Assistance:**\n",
        "1. **Colab Help**: Click the \"?\" icon in the top-right corner\n",
        "2. **Keyboard Shortcuts**: Press `Ctrl + M H` to see all shortcuts\n",
        "3. **Accessibility Support**: Contact Google Colab support for specific needs\n",
        "4. **Community Forums**: Google Colab community for peer support\n",
        "\n",
        "#### **Accessibility Resources:**\n",
        "- **WCAG Guidelines**: Web Content Accessibility Guidelines\n",
        "- **Google Accessibility**: Google's accessibility resources\n",
        "- **Screen Reader Documentation**: Specific guides for your screen reader\n",
        "\n",
        "---\n",
        "\n",
        "**💡 Pro Tip**: Bookmark this section for quick reference during your analysis!\n"
      ]
    },
    {
      "cell_type": "markdown",
      "metadata": {
        "id": "5mWfNb3ZqSH5"
      },
      "source": [
        "# Emergency Room Wait Time Data Analysis\n",
        "\n",
        "## Overview\n",
        "This notebook demonstrates a comprehensive analysis of Emergency Room (ER) wait time data. We'll explore patient satisfaction, wait times, and various factors that influence the ER experience.\n",
        "\n",
        "## Learning Objectives\n",
        "By the end of this analysis, you will be able to:\n",
        "1. **Data Acquisition**: Download and load data from external sources\n",
        "2. **Data Exploration**: Perform initial data inspection and quality assessment\n",
        "3. **Statistical Analysis**: Apply appropriate statistical tests to answer research questions\n",
        "4. **Data Visualization**: Create meaningful visualizations to communicate insights\n",
        "5. **Interpretation**: Draw actionable conclusions from data analysis\n",
        "\n",
        "## Dataset Description\n",
        "The ER Wait Time Dataset contains information about:\n",
        "- Patient demographics and visit characteristics\n",
        "- Wait times at different stages of the ER process\n",
        "- Patient satisfaction ratings\n",
        "- Hospital and regional information\n",
        "- Temporal factors (time of day, season, day of week)\n",
        "\n",
        "## Analysis Workflow\n",
        "1. **Data Loading & Inspection**: Understanding our dataset structure\n",
        "2. **Exploratory Data Analysis**: Initial insights and patterns\n",
        "3. **Statistical Testing**: Rigorous analysis of relationships\n",
        "4. **Visualization**: Communicating findings effectively\n",
        "5. **Conclusions**: Actionable insights for healthcare improvement\n",
        "\n"
      ]
    },
    {
      "cell_type": "markdown",
      "metadata": {
        "id": "Ew8dKM98q1Iu"
      },
      "source": [
        "## Step 1: Data Acquisition\n",
        "\n",
        "### Data Source\n",
        "We'll download our dataset from the NCSU Libraries AI in Data Science repository. This dataset contains real-world ER wait time data that will allow us to practice data analysis techniques.\n",
        "\n",
        "**Data Repository**: https://github.com/NCSU-Libraries/ai_in_data_science\n",
        "\n",
        "### Why This Dataset?\n",
        "- **Real-world relevance**: Healthcare data is critical for improving patient care\n",
        "- **Rich features**: Multiple variables allow for comprehensive analysis\n",
        "- **Appropriate size**: Large enough for meaningful analysis, small enough for learning\n",
        "- **Clean structure**: Well-organized data suitable for educational purposes"
      ]
    },
    {
      "cell_type": "code",
      "execution_count": 1,
      "metadata": {
        "colab": {
          "base_uri": "https://localhost:8080/"
        },
        "id": "tUsE7BROqHDa",
        "outputId": "650cec33-f768-4bfa-f6c3-a0e27c25bbe7"
      },
      "outputs": [],
      "source": [
        "# Clone the GitHub repository\n"
      ]
    },
    {
      "cell_type": "markdown",
      "metadata": {
        "id": "W_LxteYOq_wj"
      },
      "source": [
        "## Step 2: Data Loading and Initial Inspection\n",
        "\n",
        "### Understanding Our Data Structure\n",
        "Before diving into analysis, we need to understand what data we're working with. This step involves:\n",
        "- **Loading the data**: Reading the CSV file into a pandas DataFrame\n",
        "- **Initial inspection**: Understanding the shape, columns, and data types\n",
        "- **Data quality assessment**: Checking for missing values and data integrity\n",
        "\n",
        "### Key Questions to Answer:\n",
        "- How many records and variables do we have?\n",
        "- What types of data are we working with?\n",
        "- Are there any obvious data quality issues?\n",
        "- What does a typical record look like?"
      ]
    },
    {
      "cell_type": "code",
      "execution_count": 2,
      "metadata": {
        "colab": {
          "base_uri": "https://localhost:8080/"
        },
        "id": "Osa43Vx_rFok",
        "outputId": "43e931a9-3690-40a5-e4fb-a1c3ef3924d9"
      },
      "outputs": [],
      "source": [
        "# List the contents of the data folder\n"
      ]
    },
    {
      "cell_type": "markdown",
      "metadata": {
        "id": "7dac3403"
      },
      "source": [
        "### Loading the Dataset\n",
        "Now we'll load the CSV data into a pandas DataFrame. This is the foundation of our analysis - we need to get our data into a format that's easy to work with.\n",
        "\n",
        "**Key concepts**:\n",
        "- **pandas DataFrame**: A 2-dimensional labeled data structure\n",
        "- **CSV format**: Comma-separated values, a common data exchange format\n",
        "- **Data loading**: The process of reading external data into our analysis environment"
      ]
    },
    {
      "cell_type": "code",
      "execution_count": 3,
      "metadata": {
        "colab": {
          "base_uri": "https://localhost:8080/",
          "height": 436
        },
        "id": "2e0f4459",
        "outputId": "e208951e-0933-447c-886a-1dca3b176b10"
      },
      "outputs": [],
      "source": [
        "# Load the CSV data into a pandas DataFrame and display the head\n"
      ]
    },
    {
      "cell_type": "markdown",
      "metadata": {
        "id": "ryY0xuvEtUvF"
      },
      "source": [
        "## Step 3: Exploratory Data Analysis (EDA)\n",
        "\n",
        "### What is Exploratory Data Analysis?\n",
        "EDA is the process of investigating datasets to summarize their main characteristics, often using visual methods. It helps us:\n",
        "- **Understand patterns** in the data\n",
        "- **Identify relationships** between variables\n",
        "- **Detect anomalies** or outliers\n",
        "- **Form hypotheses** for further testing\n",
        "\n",
        "### Our Analysis Strategy\n",
        "We'll start with **patient satisfaction** as our primary outcome variable, then explore how various factors influence it. This approach helps us understand what drives patient experience in the ER.\n",
        "\n",
        "### Key Analysis Areas:\n",
        "1. **Patient Satisfaction Distribution**: Understanding overall satisfaction levels\n",
        "2. **Temporal Patterns**: How time affects patient experience\n",
        "3. **Wait Time Analysis**: The relationship between wait times and satisfaction\n",
        "4. **Statistical Testing**: Rigorous analysis of relationships"
      ]
    },
    {
      "cell_type": "markdown",
      "metadata": {
        "id": "6zPXt1I0tth5"
      },
      "source": [
        "### 3.1 Patient Satisfaction Analysis\n",
        "\n",
        "#### Why Patient Satisfaction?\n",
        "Patient satisfaction is a crucial healthcare metric because it:\n",
        "- **Reflects quality of care** from the patient's perspective\n",
        "- **Impacts healthcare outcomes** and patient compliance\n",
        "- **Influences hospital reputation** and patient retention\n",
        "- **Provides actionable insights** for healthcare improvement\n",
        "\n",
        "#### Our Approach:\n",
        "1. **Distribution Analysis**: Understanding how satisfaction is distributed\n",
        "2. **Visualization**: Creating clear, informative charts\n",
        "3. **Statistical Summary**: Key statistics and insights\n",
        "4. **Pattern Recognition**: Identifying trends and outliers\n",
        "\n",
        "#### Key Questions:\n",
        "- What is the overall satisfaction level?\n",
        "- Are there clear patterns in satisfaction ratings?\n",
        "- What factors might influence satisfaction?"
      ]
    },
    {
      "cell_type": "code",
      "execution_count": 4,
      "metadata": {
        "colab": {
          "base_uri": "https://localhost:8080/",
          "height": 285
        },
        "id": "Q5Od0f7dtgb4",
        "outputId": "a33c0a4c-1ad7-4365-91af-1e1c907aff6e"
      },
      "outputs": [],
      "source": [
        "# Check the value counts for patient satisfaction\n"
      ]
    },
    {
      "cell_type": "code",
      "execution_count": 5,
      "metadata": {
        "colab": {
          "base_uri": "https://localhost:8080/",
          "height": 483
        },
        "id": "mtyO8sMXuqh5",
        "outputId": "14de9924-c303-43f2-8fb5-df56be51908b"
      },
      "outputs": [],
      "source": [
        "# Create a bar plot of patient satisfaction counts"
      ]
    },
    {
      "cell_type": "code",
      "execution_count": 6,
      "metadata": {
        "colab": {
          "base_uri": "https://localhost:8080/",
          "height": 700
        },
        "id": "V0spnNTjuxEj",
        "outputId": "17c79339-095d-4f86-a7ec-64bf2641e3cc"
      },
      "outputs": [],
      "source": [
        "# Create a bar plot of patient satisfaction percentages\n"
      ]
    },
    {
      "cell_type": "code",
      "execution_count": 7,
      "metadata": {
        "colab": {
          "base_uri": "https://localhost:8080/",
          "height": 695
        },
        "id": "3aa94508",
        "outputId": "119cb53a-c7b0-4171-d4ab-c1d9549e8bd8"
      },
      "outputs": [],
      "source": [
        "# Create a pie chart of patient satisfaction distribution\n",
        "# Calculate the counts for each satisfaction level\n"
      ]
    },
    {
      "cell_type": "code",
      "execution_count": 8,
      "metadata": {
        "colab": {
          "base_uri": "https://localhost:8080/"
        },
        "id": "i1PVLo_ZvmX6",
        "outputId": "b2dad5db-8dbc-4b6c-ebb1-0a5392ffb34f"
      },
      "outputs": [],
      "source": [
        "# Display descriptive statistics for patient satisfaction\n",
        "# what are the descriptive statistics for patient satisfaction\n",
        "\n",
        "# print mode and median\n"
      ]
    },
    {
      "cell_type": "markdown",
      "metadata": {
        "id": "zdRUfpM-zJjy"
      },
      "source": [
        "### 3.2 Temporal Analysis: Time Patterns in ER Visits\n",
        "\n",
        "#### Why Analyze Time Patterns?\n",
        "Understanding temporal patterns in ER visits helps us:\n",
        "- **Identify peak hours** and resource allocation needs\n",
        "- **Understand patient flow** throughout the day/week\n",
        "- **Optimize staffing** based on demand patterns\n",
        "- **Improve patient experience** by managing expectations\n",
        "\n",
        "#### Key Temporal Factors:\n",
        "1. **Day of Week**: Weekend vs. weekday patterns\n",
        "2. **Time of Day**: Morning, afternoon, evening, night patterns\n",
        "3. **Seasonal Variations**: How seasons affect ER usage\n",
        "4. **Wait Time Patterns**: How wait times vary by time\n",
        "\n",
        "#### Analysis Approach:\n",
        "- **Heatmaps**: Visualizing patterns across time dimensions\n",
        "- **Statistical Analysis**: Quantifying differences between time periods\n",
        "- **Correlation Analysis**: Understanding relationships between time and outcomes"
      ]
    },
    {
      "cell_type": "code",
      "execution_count": 9,
      "metadata": {
        "colab": {
          "base_uri": "https://localhost:8080/",
          "height": 436
        },
        "id": "KJuHVr5vwfxn",
        "outputId": "3d34870b-7d74-4a05-9f4b-420ef6f7b498"
      },
      "outputs": [],
      "source": [
        "# Display the first few rows of the DataFrame as a reminder\n"
      ]
    },
    {
      "cell_type": "code",
      "execution_count": 10,
      "metadata": {
        "colab": {
          "base_uri": "https://localhost:8080/",
          "height": 585
        },
        "id": "d8b3b48d",
        "outputId": "5cc46b04-2bc6-4a62-e8b2-60bd6faca3ed"
      },
      "outputs": [],
      "source": [
        "# Create a heatmap of the number of visits by Day of Week and Time of Day\n"
      ]
    },
    {
      "cell_type": "code",
      "execution_count": 11,
      "metadata": {
        "colab": {
          "base_uri": "https://localhost:8080/",
          "height": 739
        },
        "id": "BwM3bU8Gxml5",
        "outputId": "62363962-c6ab-4f8b-d72a-da9f0b81044d"
      },
      "outputs": [],
      "source": [
        "# Create a heatmap showing visit count, average wait time, and average specialists by Day of Week and Time of Day\n"
      ]
    },
    {
      "cell_type": "code",
      "execution_count": 12,
      "metadata": {
        "colab": {
          "base_uri": "https://localhost:8080/",
          "height": 713
        },
        "id": "V_X79GNdyhCV",
        "outputId": "914faeeb-f92e-4722-e601-9e98e249c251"
      },
      "outputs": [],
      "source": [
        "# Create a heatmap colored by average wait time with annotations\n",
        "# same heatmap but color shows the total wait time\n"
      ]
    },
    {
      "cell_type": "code",
      "execution_count": 13,
      "metadata": {
        "colab": {
          "base_uri": "https://localhost:8080/",
          "height": 473
        },
        "id": "brir4FhvynVb",
        "outputId": "c1bed982-6301-425b-a552-84b7a803a704"
      },
      "outputs": [],
      "source": [
        "# Create side-by-side heatmaps for visit count and average wait time\n"
      ]
    },
    {
      "cell_type": "markdown",
      "metadata": {
        "id": "Wo618hRazFxZ"
      },
      "source": [
        "### 3.3 Statistical Analysis: Patient Satisfaction vs. Time of Day\n",
        "\n",
        "#### Research Question\n",
        "**Is there a statistically significant relationship between patient satisfaction and the time of day when patients visit the ER?**\n",
        "\n",
        "#### Why This Analysis Matters:\n",
        "- **Healthcare Planning**: Understanding when patients are most/least satisfied\n",
        "- **Resource Allocation**: Optimizing staff and resources for better outcomes\n",
        "- **Patient Experience**: Identifying times when satisfaction might be lower\n",
        "- **Quality Improvement**: Targeting specific time periods for improvement\n",
        "\n",
        "#### Statistical Approach:\n",
        "1. **Descriptive Analysis**: Visualizing satisfaction by time of day\n",
        "2. **Statistical Testing**: Using appropriate tests to determine significance\n",
        "3. **Effect Size**: Understanding the practical importance of differences\n",
        "4. **Interpretation**: Drawing actionable conclusions\n",
        "\n",
        "#### Key Concepts:\n",
        "- **Box Plots**: Showing distribution and outliers\n",
        "- **Statistical Tests**: Mann-Whitney U test for non-parametric data\n",
        "- **Significance Levels**: Understanding p-values and confidence\n",
        "- **Effect Size**: Practical vs. statistical significance"
      ]
    },
    {
      "cell_type": "code",
      "execution_count": 14,
      "metadata": {
        "colab": {
          "base_uri": "https://localhost:8080/",
          "height": 700
        },
        "id": "NryOHPVYzxDe",
        "outputId": "dd99d4e2-553e-4bad-9fab-810619734500"
      },
      "outputs": [],
      "source": [
        "# Create a box plot showing patient satisfaction by Time of Day\n"
      ]
    },
    {
      "cell_type": "code",
      "execution_count": 15,
      "metadata": {
        "colab": {
          "base_uri": "https://localhost:8080/",
          "height": 221
        },
        "id": "62b1e61a",
        "outputId": "42868799-1684-4578-ef09-a36751644e90"
      },
      "outputs": [],
      "source": [
        "# Calculate average patient satisfaction by Time of Day\n"
      ]
    },
    {
      "cell_type": "code",
      "execution_count": 16,
      "metadata": {
        "colab": {
          "base_uri": "https://localhost:8080/"
        },
        "id": "10631ed5",
        "outputId": "ef439689-decf-4818-9497-5d1b84686a88"
      },
      "outputs": [],
      "source": [
        "# Perform Mann-Whitney U test for patient satisfaction in Early Morning vs. rest of the day\n"
      ]
    },
    {
      "cell_type": "markdown",
      "metadata": {
        "id": "0Rg7C6kK2Azr"
      },
      "source": [
        "### 3.4 Wait Time Consistency Analysis\n",
        "\n",
        "#### Research Question\n",
        "**Are wait times consistent across different factors, and what drives variability in ER wait times?**\n",
        "\n",
        "#### Why Analyze Wait Time Consistency?\n",
        "- **Quality Assurance**: Ensuring consistent patient experience\n",
        "- **Resource Planning**: Understanding factors that affect wait times\n",
        "- **Process Improvement**: Identifying bottlenecks and optimization opportunities\n",
        "- **Patient Expectations**: Managing patient expectations about wait times\n",
        "\n",
        "#### Key Analysis Areas:\n",
        "1. **Distribution Analysis**: Understanding wait time patterns\n",
        "2. **Factor Analysis**: How different variables affect wait times\n",
        "3. **Correlation Analysis**: Relationships between wait time components\n",
        "4. **Statistical Testing**: Rigorous analysis of wait time differences\n",
        "\n",
        "#### Wait Time Components:\n",
        "- **Time to Registration**: Initial check-in process\n",
        "- **Time to Triage**: Assessment and prioritization\n",
        "- **Time to Medical Professional**: Seeing a healthcare provider\n",
        "- **Total Wait Time**: Overall time from arrival to treatment\n",
        "\n",
        "#### Statistical Concepts:\n",
        "- **Histograms**: Understanding data distribution\n",
        "- **Box Plots**: Comparing distributions across groups\n",
        "- **Correlation Matrix**: Understanding relationships between variables\n",
        "- **ANOVA**: Testing for significant differences between groups"
      ]
    },
    {
      "cell_type": "code",
      "execution_count": 17,
      "metadata": {
        "colab": {
          "base_uri": "https://localhost:8080/",
          "height": 873
        },
        "id": "JBAg_UUL2EUU",
        "outputId": "a5a5a3c6-0ae6-463e-d913-5fe88a9167f7"
      },
      "outputs": [],
      "source": [
        "# Display histograms of wait time components\n"
      ]
    },
    {
      "cell_type": "code",
      "execution_count": 18,
      "metadata": {
        "colab": {
          "base_uri": "https://localhost:8080/",
          "height": 585
        },
        "id": "8da74f6d",
        "outputId": "b2308dc9-6f80-4088-ce12-e5118fbf1c99"
      },
      "outputs": [],
      "source": [
        "# Display stacked histogram of component wait times\n"
      ]
    },
    {
      "cell_type": "code",
      "execution_count": 19,
      "metadata": {
        "colab": {
          "base_uri": "https://localhost:8080/",
          "height": 753
        },
        "id": "2b2ae5e4",
        "outputId": "eef108c8-2353-477e-844c-e513dff03882"
      },
      "outputs": [],
      "source": [
        "# Create a box plot showing time to medical professional by Time of Day and Urgency Level\n"
      ]
    },
    {
      "cell_type": "code",
      "execution_count": 20,
      "metadata": {
        "colab": {
          "base_uri": "https://localhost:8080/",
          "height": 346
        },
        "id": "ny9vFea46R26",
        "outputId": "bdb4cafa-e321-41a4-dcfa-48334eec6cc1"
      },
      "outputs": [],
      "source": [
        "# Calculate the correlation matrix for numerical columns\n",
        "\n",
        "# Display the correlation of 'Total Wait Time (min)' with other numerical columns\n"
      ]
    },
    {
      "cell_type": "code",
      "execution_count": 21,
      "metadata": {
        "colab": {
          "base_uri": "https://localhost:8080/",
          "height": 776
        },
        "id": "b7726c4d",
        "outputId": "f6ef4de0-c97e-40e9-f11a-cca2e0b6fe61"
      },
      "outputs": [],
      "source": [
        "# Calculate average Total Wait Time by Hospital ID, Region, and Urgency Level\n",
        "# Calculate average Total Wait Time by Hospital ID\n"
      ]
    },
    {
      "cell_type": "code",
      "execution_count": 22,
      "metadata": {
        "colab": {
          "base_uri": "https://localhost:8080/",
          "height": 224
        },
        "id": "9yVUuuH17Xi-",
        "outputId": "87e3f3c5-d044-4006-bd89-7787bba8e478"
      },
      "outputs": [],
      "source": [
        "# Calculate average Total Wait Time and count by Patient Outcome\n",
        "\n",
        "\n",
        "# Calculate the percentage of patients for each outcome\n"
      ]
    },
    {
      "cell_type": "code",
      "execution_count": 23,
      "metadata": {
        "colab": {
          "base_uri": "https://localhost:8080/",
          "height": 1000
        },
        "id": "WfguBDgZ7-ur",
        "outputId": "e8201176-9f90-460c-8bb6-371545bc015c"
      },
      "outputs": [],
      "source": [
        "# Display the head of the DataFrame (first 20 rows)\n",
        "# df.head(20)"
      ]
    },
    {
      "cell_type": "code",
      "execution_count": 24,
      "metadata": {
        "colab": {
          "base_uri": "https://localhost:8080/",
          "height": 271
        },
        "id": "ifZwBdXI_Gqa",
        "outputId": "75074f9e-53c4-4fca-c976-cda65335da56"
      },
      "outputs": [],
      "source": [
        "# Calculate average Total Wait Time by Season\n"
      ]
    },
    {
      "cell_type": "code",
      "execution_count": 25,
      "metadata": {
        "colab": {
          "base_uri": "https://localhost:8080/",
          "height": 261
        },
        "id": "f51d0653",
        "outputId": "d31c946c-0b14-415b-8ed8-8aeaafa78d6d"
      },
      "outputs": [],
      "source": [
        "# Perform one-way ANOVA test\n",
        "# The formula specifies that 'Total Wait Time (min)' is dependent on 'Season'"
      ]
    },
    {
      "cell_type": "markdown",
      "metadata": {
        "id": "d38de3bc"
      },
      "source": [
        "## Step 4: Advanced Analysis - Seasonal Patterns\n",
        "\n",
        "### 4.1 Seasonal Analysis Overview\n",
        "\n",
        "#### Why Analyze Seasonal Patterns?\n",
        "Seasonal analysis helps us understand:\n",
        "- **Resource Planning**: Preparing for seasonal variations in demand\n",
        "- **Staffing Optimization**: Adjusting resources based on predictable patterns\n",
        "- **Patient Experience**: Understanding how seasons affect patient satisfaction\n",
        "- **Healthcare Outcomes**: Identifying seasonal health trends\n",
        "\n",
        "#### Key Research Questions:\n",
        "1. **Do wait times vary significantly by season?**\n",
        "2. **Is there a relationship between seasonal wait times and patient satisfaction?**\n",
        "3. **What factors drive seasonal variations in ER performance?**\n",
        "\n",
        "#### Statistical Approach:\n",
        "- **Descriptive Statistics**: Average wait times and satisfaction by season\n",
        "- **ANOVA Testing**: Statistical significance of seasonal differences\n",
        "- **Correlation Analysis**: Relationship between wait times and satisfaction\n",
        "- **Visualization**: Clear presentation of seasonal patterns\n",
        "\n",
        "#### Expected Insights:\n",
        "- **Winter**: Typically higher demand due to flu season and weather-related injuries\n",
        "- **Summer**: May have different patterns due to vacation schedules and outdoor activities\n",
        "- **Spring/Fall**: Transition periods with potentially different patient demographics"
      ]
    },
    {
      "cell_type": "markdown",
      "metadata": {
        "id": "e66b8b69"
      },
      "source": [
        "### 4.2 Calculating Seasonal Averages\n",
        "\n",
        "#### Methodology\n",
        "We'll calculate the average total wait time and average patient satisfaction for each season by:\n",
        "1. **Grouping the data** by 'Season' column\n",
        "2. **Computing the mean** of 'Total Wait Time (min)' and 'Patient Satisfaction'\n",
        "3. **Comparing results** across seasons to identify patterns\n",
        "\n",
        "#### Why This Approach?\n",
        "- **Simple and Clear**: Easy to understand and interpret\n",
        "- **Comparative Analysis**: Allows direct comparison between seasons\n",
        "- **Foundation for Testing**: Provides data for statistical significance testing\n",
        "- **Actionable Insights**: Clear metrics for healthcare planning\n",
        "\n",
        "#### Key Metrics:\n",
        "- **Average Wait Time**: Mean total wait time per season\n",
        "- **Average Satisfaction**: Mean patient satisfaction rating per season\n",
        "- **Sample Sizes**: Number of observations per season\n",
        "- **Standard Deviations**: Variability within each season\n",
        "\n"
      ]
    },
    {
      "cell_type": "code",
      "execution_count": 26,
      "metadata": {
        "colab": {
          "base_uri": "https://localhost:8080/",
          "height": 238
        },
        "id": "3626417d",
        "outputId": "57d603aa-fab5-44a6-c1dd-c54d33fc4334"
      },
      "outputs": [],
      "source": [
        "# Calculate the average total wait time and average patient satisfaction by Season\n"
      ]
    },
    {
      "cell_type": "markdown",
      "metadata": {
        "id": "13f8d26e"
      },
      "source": [
        "### 4.3 Statistical Testing: Seasonal Relationships\n",
        "\n",
        "#### Research Question\n",
        "**Is there a statistically significant relationship between average wait times and patient satisfaction across seasons?**\n",
        "\n",
        "#### Statistical Approach\n",
        "We'll perform correlation analysis to quantify the relationship between:\n",
        "- **Average Total Wait Time** by season\n",
        "- **Average Patient Satisfaction** by season\n",
        "\n",
        "#### Why Correlation Analysis?\n",
        "- **Quantifies Relationships**: Provides a numerical measure of association\n",
        "- **Direction and Strength**: Shows whether the relationship is positive/negative and how strong\n",
        "- **Statistical Significance**: Determines if the relationship is meaningful\n",
        "- **Actionable Insights**: Helps understand if reducing wait times improves satisfaction\n",
        "\n",
        "#### Key Concepts:\n",
        "- **Correlation Coefficient**: Measures strength and direction of linear relationship\n",
        "- **Significance Testing**: Determines if the relationship is statistically meaningful\n",
        "- **Effect Size**: Understanding the practical importance of the relationship\n",
        "- **Interpretation**: Drawing conclusions about cause and effect"
      ]
    },
    {
      "cell_type": "markdown",
      "metadata": {
        "id": "dda0e017"
      },
      "source": [
        "### 4.4 Interpretation and Analysis\n",
        "\n",
        "#### Data Interpretation Framework\n",
        "We'll analyze the relationship between average wait times and patient satisfaction by season to understand:\n",
        "- **Pattern Recognition**: Identifying trends and relationships\n",
        "- **Statistical Significance**: Determining if differences are meaningful\n",
        "- **Practical Implications**: Understanding what the data means for healthcare\n",
        "- **Actionable Insights**: Drawing conclusions for improvement\n",
        "\n",
        "#### Key Analysis Steps:\n",
        "1. **Descriptive Analysis**: Examining the raw numbers and patterns\n",
        "2. **Statistical Testing**: Determining significance of relationships\n",
        "3. **Effect Size**: Understanding practical importance\n",
        "4. **Interpretation**: Drawing meaningful conclusions\n",
        "\n",
        "#### Expected Insights:\n",
        "- **Inverse Relationship**: Longer wait times typically correlate with lower satisfaction\n",
        "- **Seasonal Variations**: Different seasons may show different patterns\n",
        "- **Statistical Significance**: Whether observed differences are meaningful\n",
        "- **Practical Implications**: What this means for healthcare operations"
      ]
    },
    {
      "cell_type": "code",
      "execution_count": 27,
      "metadata": {
        "colab": {
          "base_uri": "https://localhost:8080/",
          "height": 337
        },
        "id": "0804b2d4",
        "outputId": "8662955a-9fb9-4f6a-c3ca-01b029cd503a"
      },
      "outputs": [
        {
          "name": "stdout",
          "output_type": "stream",
          "text": [
            "Analysis of the relationship between average wait times and patient satisfaction by Season:\n",
            "-----------------------------------------------------------------------------------------\n",
            "\n",
            "Interpretation:\n",
            "- Seasons with lower average total wait times (Fall and Spring) tend to have higher average patient satisfaction.\n",
            "- Seasons with higher average total wait times (Winter and Summer) tend to have lower average patient satisfaction.\n",
            "- This suggests an inverse relationship: as average wait times increase, average patient satisfaction tends to decrease.\n"
          ]
        }
      ],
      "source": [
        "print(\"Analysis of the relationship between average wait times and patient satisfaction by Season:\")\n",
        "print(\"-----------------------------------------------------------------------------------------\")\n",
        "\n",
        "# Display the calculated averages again for easy reference\n",
        "# display(average_stats_by_season)\n",
        "\n",
        "# Interpret the relationship\n",
        "print(\"\\nInterpretation:\")\n",
        "print(\"- Seasons with lower average total wait times (Fall and Spring) tend to have higher average patient satisfaction.\")\n",
        "print(\"- Seasons with higher average total wait times (Winter and Summer) tend to have lower average patient satisfaction.\")\n",
        "print(\"- This suggests an inverse relationship: as average wait times increase, average patient satisfaction tends to decrease.\")"
      ]
    },
    {
      "cell_type": "code",
      "execution_count": null,
      "metadata": {
        "colab": {
          "base_uri": "https://localhost:8080/",
          "height": 785
        },
        "id": "xgJ5C8_RCgc_",
        "outputId": "a07ed3ce-ff22-47be-91f6-38e5cd59f69d"
      },
      "outputs": [],
      "source": []
    },
    {
      "cell_type": "code",
      "execution_count": null,
      "metadata": {
        "colab": {
          "base_uri": "https://localhost:8080/",
          "height": 739
        },
        "id": "GvrqjwcOC7ZR",
        "outputId": "43f93e7b-7ae0-4180-dafc-1775f4702bea"
      },
      "outputs": [],
      "source": []
    },
    {
      "cell_type": "markdown",
      "metadata": {},
      "source": [
        "## Step 5: Conclusions and Next Steps\n",
        "\n",
        "### 5.1 Key Findings Summary\n",
        "\n",
        "#### What We've Learned:\n",
        "1. **Patient Satisfaction Patterns**: Understanding overall satisfaction levels and distributions\n",
        "2. **Temporal Relationships**: How time of day and season affect patient experience\n",
        "3. **Wait Time Analysis**: Factors that influence wait times and their consistency\n",
        "4. **Statistical Relationships**: Significant associations between variables\n",
        "\n",
        "#### Key Insights:\n",
        "- **Patient satisfaction** varies by time of day and season\n",
        "- **Wait times** show patterns that can inform resource allocation\n",
        "- **Statistical significance** of relationships provides confidence in findings\n",
        "- **Actionable recommendations** for healthcare improvement\n",
        "\n",
        "### 5.2 Practical Applications\n",
        "\n",
        "#### For Healthcare Administrators:\n",
        "- **Resource Planning**: Optimizing staff and resources based on demand patterns\n",
        "- **Quality Improvement**: Targeting specific areas for patient experience enhancement\n",
        "- **Performance Monitoring**: Establishing benchmarks and tracking progress\n",
        "\n",
        "#### For Healthcare Providers:\n",
        "- **Patient Communication**: Setting appropriate expectations about wait times\n",
        "- **Process Optimization**: Identifying bottlenecks and improvement opportunities\n",
        "- **Quality Assurance**: Monitoring and improving patient satisfaction\n",
        "\n",
        "### 5.3 Next Steps for Further Analysis\n",
        "\n",
        "#### Advanced Analytics:\n",
        "1. **Predictive Modeling**: Using machine learning to predict wait times and satisfaction\n",
        "2. **Causal Analysis**: Understanding cause-and-effect relationships\n",
        "3. **Optimization**: Mathematical models for resource allocation\n",
        "4. **Real-time Monitoring**: Dashboard development for ongoing analysis\n",
        "\n",
        "#### Data Collection Improvements:\n",
        "1. **Additional Variables**: Patient demographics, medical conditions, staff levels\n",
        "2. **Temporal Granularity**: Hourly data for more detailed analysis\n",
        "3. **Patient Feedback**: Qualitative data to complement quantitative metrics\n",
        "4. **Operational Data**: Staff schedules, equipment availability, room capacity\n",
        "\n",
        "### 5.4 Learning Outcomes Achieved\n",
        "\n",
        "#### Technical Skills:\n",
        "- **Data Loading**: Importing and managing datasets\n",
        "- **Exploratory Analysis**: Understanding data structure and patterns\n",
        "- **Statistical Testing**: Applying appropriate statistical methods\n",
        "- **Visualization**: Creating meaningful charts and graphs\n",
        "- **Interpretation**: Drawing actionable conclusions from data\n",
        "\n",
        "#### Analytical Thinking:\n",
        "- **Question Formulation**: Developing research questions\n",
        "- **Methodology Selection**: Choosing appropriate analytical approaches\n",
        "- **Critical Evaluation**: Assessing results and limitations\n",
        "- **Communication**: Presenting findings clearly and effectively\n",
        "\n",
        "### 5.5 Resources for Continued Learning\n",
        "\n",
        "#### Recommended Next Steps:\n",
        "1. **Advanced Statistics**: Regression analysis, time series analysis\n",
        "2. **Machine Learning**: Predictive modeling, clustering, classification\n",
        "3. **Healthcare Analytics**: Specialized courses in healthcare data analysis\n",
        "4. **Data Visualization**: Advanced visualization techniques and tools\n",
        "5. **Programming**: Advanced Python, R, or other analytical languages\n",
        "\n",
        "#### Additional Datasets:\n",
        "- **Healthcare.gov**: Public health datasets\n",
        "- **CDC Data**: Centers for Disease Control datasets\n",
        "- **Hospital Compare**: Medicare hospital quality data\n",
        "- **WHO Data**: World Health Organization health statistics\n",
        "\n",
        "---\n",
        "\n",
        "## Congratulations! 🎉\n",
        "\n",
        "You've completed a comprehensive analysis of ER wait time data. You've learned to:\n",
        "- Load and explore datasets\n",
        "- Perform statistical analysis\n",
        "- Create meaningful visualizations\n",
        "- Draw actionable conclusions\n",
        "- Apply analytical thinking to real-world problems\n",
        "\n",
        "**Keep practicing with different datasets and analytical techniques to continue developing your data analysis skills!**\n"
      ]
    },
    {
      "cell_type": "code",
      "execution_count": null,
      "metadata": {
        "colab": {
          "base_uri": "https://localhost:8080/",
          "height": 562
        },
        "id": "Tk0j93JIFzCK",
        "outputId": "f50c22e7-875f-4d4c-cdae-e0a509126ca8"
      },
      "outputs": [],
      "source": []
    }
  ],
  "metadata": {
    "colab": {
      "provenance": []
    },
    "kernelspec": {
      "display_name": "Python 3",
      "name": "python3"
    },
    "language_info": {
      "codemirror_mode": {
        "name": "ipython",
        "version": 3
      },
      "file_extension": ".py",
      "mimetype": "text/x-python",
      "name": "python",
      "nbconvert_exporter": "python",
      "pygments_lexer": "ipython3",
      "version": "3.13.2"
    }
  },
  "nbformat": 4,
  "nbformat_minor": 0
}
